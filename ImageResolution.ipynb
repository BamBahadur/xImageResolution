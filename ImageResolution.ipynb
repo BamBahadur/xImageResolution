{
  "nbformat": 4,
  "nbformat_minor": 0,
  "metadata": {
    "colab": {
      "provenance": [],
      "gpuType": "T4"
    },
    "kernelspec": {
      "name": "python3",
      "display_name": "Python 3"
    },
    "language_info": {
      "name": "python"
    },
    "accelerator": "GPU"
  },
  "cells": [
    {
      "cell_type": "code",
      "source": [
        "# ====================================================\n",
        "# 🚀 Real-ESRGAN Colab Setup | PyTorch 2.x Compatible\n",
        "# Fixed model initialization\n",
        "# ====================================================\n",
        "\n",
        "# 1. 📦 Install dependencies\n",
        "!pip install --upgrade torch torchvision torchaudio --quiet\n",
        "!pip install realesrgan basicsr gfpgan Pillow numpy --quiet\n",
        "\n",
        "# 2. 🩹 Patch import issue in basicsr for PyTorch ≥ 2.0\n",
        "!sed -i 's#from torchvision.transforms.functional_tensor import rgb_to_grayscale#from torchvision.transforms.functional import rgb_to_grayscale#g' /usr/local/lib/python3.*/dist-packages/basicsr/data/degradations.py\n",
        "\n",
        "# 3. 📥 Download Real-ESRGAN pretrained model weights\n",
        "!wget -q https://github.com/xinntao/Real-ESRGAN/releases/download/v0.1.0/RealESRGAN_x4plus.pth -O RealESRGAN_x4plus.pth\n",
        "\n",
        "# (Optional: for anime)\n",
        "# !wget -q https://github.com/xinntao/Real-ESRGAN/releases/download/v0.2.5.0/RealESRGAN_x4plus_anime_6B.pth -O RealESRGAN_x4plus_anime_6B.pth\n",
        "\n",
        "# 4. 🧠 Initialize model properly\n",
        "import torch\n",
        "import numpy as np\n",
        "from PIL import Image\n",
        "from realesrgan import RealESRGANer\n",
        "from basicsr.archs.rrdbnet_arch import RRDBNet  # <-- this is important!\n",
        "\n",
        "device = 'cuda' if torch.cuda.is_available() else 'cpu'\n",
        "\n",
        "# Define the RRDBNet architecture used in RealESRGAN_x4plus\n",
        "model_arch = RRDBNet(\n",
        "    num_in_ch=3,\n",
        "    num_out_ch=3,\n",
        "    num_feat=64,\n",
        "    num_block=23,\n",
        "    num_grow_ch=32,\n",
        "    scale=4\n",
        ")\n",
        "\n",
        "# Create RealESRGANer with actual model object\n",
        "model = RealESRGANer(\n",
        "    scale=4,\n",
        "    model_path='RealESRGAN_x4plus.pth',\n",
        "    model=model_arch,\n",
        "    device=device\n",
        ")\n",
        "\n",
        "print(f\"✅ Real-ESRGAN model loaded successfully on {device.upper()}!\")\n",
        "\n",
        "# ====================================================\n",
        "# 🖼️ Helper functions for image upscaling\n",
        "# ====================================================\n",
        "import os\n",
        "\n",
        "def upscale_image(input_path: str, output_path: str):\n",
        "    \"\"\"Enhance a single image and save the output.\"\"\"\n",
        "    img = Image.open(input_path).convert('RGB')\n",
        "    img_np = np.array(img)\n",
        "    output, _ = model.enhance(img_np)\n",
        "    Image.fromarray(output).save(output_path)\n",
        "    print(f\"✅ Upscaled image saved at: {output_path}\")\n",
        "\n",
        "def upscale_folder(input_folder: str, output_folder: str):\n",
        "    \"\"\"Batch upscale all images in a folder.\"\"\"\n",
        "    os.makedirs(output_folder, exist_ok=True)\n",
        "    for filename in os.listdir(input_folder):\n",
        "        if filename.lower().endswith(('.png', '.jpg', '.jpeg', '.webp')):\n",
        "            in_path = os.path.join(input_folder, filename)\n",
        "            out_path = os.path.join(output_folder, f\"upscaled_{filename}\")\n",
        "            upscale_image(in_path, out_path)\n",
        "\n",
        "# ====================================================\n",
        "# 📤 Usage Example\n",
        "# ====================================================\n",
        "# 🖼️ Single image:\n",
        "# upscale_image('your_image.png', 'upscaled_your_image.png')\n",
        "\n",
        "# 🗂️ Batch images:\n",
        "# upscale_folder('input_images', 'upscaled_results')\n"
      ],
      "metadata": {
        "id": "DBGy_FFPvkyM",
        "colab": {
          "base_uri": "https://localhost:8080/"
        },
        "outputId": "bed1759e-e611-47b0-853e-b618deeba496"
      },
      "execution_count": 1,
      "outputs": [
        {
          "output_type": "stream",
          "name": "stdout",
          "text": [
            "\u001b[?25l     \u001b[90m━━━━━━━━━━━━━━━━━━━━━━━━━━━━━━━━━━━━━━━━\u001b[0m \u001b[32m0.0/172.5 kB\u001b[0m \u001b[31m?\u001b[0m eta \u001b[36m-:--:--\u001b[0m\r\u001b[2K     \u001b[90m━━━━━━━━━━━━━━━━━━━━━━━━━━━━━━━━━━━━━━━\u001b[0m \u001b[32m172.5/172.5 kB\u001b[0m \u001b[31m7.0 MB/s\u001b[0m eta \u001b[36m0:00:00\u001b[0m\n",
            "\u001b[?25h  Preparing metadata (setup.py) ... \u001b[?25l\u001b[?25hdone\n",
            "\u001b[2K     \u001b[90m━━━━━━━━━━━━━━━━━━━━━━━━━━━━━━━━━━━━━━━━\u001b[0m \u001b[32m46.8/46.8 kB\u001b[0m \u001b[31m4.0 MB/s\u001b[0m eta \u001b[36m0:00:00\u001b[0m\n",
            "\u001b[2K     \u001b[90m━━━━━━━━━━━━━━━━━━━━━━━━━━━━━━━━━━━━━━\u001b[0m \u001b[32m178.0/178.0 kB\u001b[0m \u001b[31m13.8 MB/s\u001b[0m eta \u001b[36m0:00:00\u001b[0m\n",
            "\u001b[?25h  Preparing metadata (setup.py) ... \u001b[?25l\u001b[?25hdone\n",
            "\u001b[2K   \u001b[90m━━━━━━━━━━━━━━━━━━━━━━━━━━━━━━━━━━━━━━━━\u001b[0m \u001b[32m52.2/52.2 kB\u001b[0m \u001b[31m4.9 MB/s\u001b[0m eta \u001b[36m0:00:00\u001b[0m\n",
            "\u001b[2K   \u001b[90m━━━━━━━━━━━━━━━━━━━━━━━━━━━━━━━━━━━━━━━━\u001b[0m \u001b[32m59.6/59.6 kB\u001b[0m \u001b[31m5.5 MB/s\u001b[0m eta \u001b[36m0:00:00\u001b[0m\n",
            "\u001b[2K   \u001b[90m━━━━━━━━━━━━━━━━━━━━━━━━━━━━━━━━━━━━━━━━\u001b[0m \u001b[32m299.4/299.4 kB\u001b[0m \u001b[31m25.9 MB/s\u001b[0m eta \u001b[36m0:00:00\u001b[0m\n",
            "\u001b[2K   \u001b[90m━━━━━━━━━━━━━━━━━━━━━━━━━━━━━━━━━━━━━━━━\u001b[0m \u001b[32m5.5/5.5 MB\u001b[0m \u001b[31m115.2 MB/s\u001b[0m eta \u001b[36m0:00:00\u001b[0m\n",
            "\u001b[2K   \u001b[90m━━━━━━━━━━━━━━━━━━━━━━━━━━━━━━━━━━━━━━━━\u001b[0m \u001b[32m256.2/256.2 kB\u001b[0m \u001b[31m25.5 MB/s\u001b[0m eta \u001b[36m0:00:00\u001b[0m\n",
            "\u001b[?25h  Building wheel for basicsr (setup.py) ... \u001b[?25l\u001b[?25hdone\n",
            "  Building wheel for filterpy (setup.py) ... \u001b[?25l\u001b[?25hdone\n",
            "✅ Real-ESRGAN model loaded successfully on CUDA!\n"
          ]
        }
      ]
    },
    {
      "cell_type": "code",
      "source": [
        "upscale_image('your_image.jpg', 'upscaled_your_image.jpg')"
      ],
      "metadata": {
        "colab": {
          "base_uri": "https://localhost:8080/"
        },
        "id": "R7WKNfhe3OGV",
        "outputId": "3b1f9c0e-2960-4f6a-c4b9-28c6403d2c2a"
      },
      "execution_count": 3,
      "outputs": [
        {
          "output_type": "stream",
          "name": "stdout",
          "text": [
            "✅ Upscaled image saved at: upscaled_your_image.jpg\n"
          ]
        }
      ]
    },
    {
      "cell_type": "code",
      "source": [],
      "metadata": {
        "id": "dJwM_sBp5Kfs"
      },
      "execution_count": null,
      "outputs": []
    }
  ]
}